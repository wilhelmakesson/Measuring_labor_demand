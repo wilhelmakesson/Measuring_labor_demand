{
 "cells": [
  {
   "cell_type": "markdown",
   "metadata": {},
   "source": [
    "## Query to SQlite database\n",
    "\n",
    "In this notebook, we will convert the csv-files from Main Project file into an Sqlite database. This enables us to quickly and efficiently retrieve the amount of active job ads, per region and occupational group, from the combined database. The first step is to create the relevant tables in the Sqlite database. Secondly, we will insert the relevant data into the tables, and finally join them into one structured table."
   ]
  },
  {
   "cell_type": "code",
   "execution_count": 1,
   "metadata": {},
   "outputs": [],
   "source": [
    "import csv\n",
    "import sqlite3"
   ]
  },
  {
   "cell_type": "code",
   "execution_count": 17,
   "metadata": {},
   "outputs": [],
   "source": [
    "# Establishing a connection to local SQlite Database\n",
    "conn = sqlite3.connect(\"/Users/wilhelmakesson/Desktop/Master Thesis/Data/muni_int/muni.db\")\n",
    "cursor = conn.cursor()"
   ]
  },
  {
   "cell_type": "code",
   "execution_count": 6,
   "metadata": {},
   "outputs": [],
   "source": [
    "# Creating a new Table in sqlite db with data over digital job ads\n",
    "Ads_table = \"\"\"\n",
    "    CREATE TABLE IF NOT EXISTS past_ads(\n",
    "    headline TEXT NOT NULL,\n",
    "    number_of_vacancies INTEGER NOT NULL,\n",
    "    publication_date TEXT NOT NULL,\n",
    "    application_deadline TEXT NOT NULL,\n",
    "    muni_code TEXT NOT NULL);\"\"\"\n",
    "cursor.execute(Ads_table)\n",
    "conn.commit()"
   ]
  },
  {
   "cell_type": "code",
   "execution_count": 11,
   "metadata": {},
   "outputs": [],
   "source": [
    "# Creating a new Table in sqlite db with data over municipal/Regional data addhering to the digital job ads\n",
    "muni_table = \"\"\"\n",
    "    CREATE TABLE IF NOT EXISTS municip(\n",
    "    municipality_code INTEGER NOT NULL,\n",
    "    municipality_name TEXT NOT NULL,\n",
    "    municipality_group_name TEXT NOT NULL,\n",
    "    county_name TEXT NOT NULL);\"\"\"\n",
    "cursor.execute(muni_table)\n",
    "conn.commit()"
   ]
  },
  {
   "cell_type": "code",
   "execution_count": 8,
   "metadata": {},
   "outputs": [],
   "source": [
    "# Importing csv files into SQlite digital job ads table\n",
    "for file in range(2006, 2021):\n",
    "    with open(f'/Users/wilhelmakesson/Desktop/Master Thesis/Data/muni_int/{file}_municode.csv', 'r') as csv_file:\n",
    "        dr = csv.DictReader(csv_file, fieldnames=['headline','number_of_vacancies','publication_date','application_deadline', 'muni_code'])\n",
    "        to_db = [(i['headline'], i['number_of_vacancies'], i['publication_date'], i['application_deadline'], i['muni_code']) for i in dr]\n",
    "    cursor.executemany(\"INSERT INTO past_ads (headline, number_of_vacancies, publication_date, application_deadline, muni_code) VALUES (?, ?, ?, ?, ?);\", to_db)\n",
    "    conn.commit()"
   ]
  },
  {
   "cell_type": "code",
   "execution_count": 15,
   "metadata": {},
   "outputs": [],
   "source": [
    "# Importing csv file with municipal codes into SQlite municipal data table\n",
    "with open('/Users/wilhelmakesson/Desktop/Master Thesis/Data/muni_int/Kommungruppsindelningen.csv', 'r') as csv_file:\n",
    "    dr = csv.DictReader(csv_file)\n",
    "    to_db = [(i['municipality_code'], i['municipality_name'], i['municipality_group_name'], i['county_name']) for i in dr]\n",
    "cursor.executemany(\"INSERT INTO municip (municipality_code, municipality_name, municipality_group_name, county_name) VALUES (?, ?, ?, ?);\", to_db)\n",
    "conn.commit()"
   ]
  },
  {
   "cell_type": "code",
   "execution_count": 28,
   "metadata": {},
   "outputs": [],
   "source": [
    "#Joining the two tables above into one structured table\n",
    "join_table = \"\"\"\n",
    "    CREATE TABLE IF NOT EXISTS joined_table(\n",
    "    headline TEXT NOT NULL,\n",
    "    number_of_vacancies INTEGER NOT NULL,\n",
    "    publication_date TEXT NOT NULL,\n",
    "    application_deadline TEXT NOT NULL,\n",
    "    municipality_name TEXT NOT NULL,\n",
    "    municipality_group_name TEXT NOT NULL,\n",
    "    county_name TEXT NOT NULL);\"\"\"\n",
    "cursor.execute(join_table)\n",
    "conn.commit()\n",
    "\n",
    "joined_table = \"\"\"\n",
    "    INSERT INTO joined_table\n",
    "    SELECT p.headline, p.number_of_vacancies, p.publication_date, p.application_deadline, \n",
    "    m.municipality_name, m.municipality_group_name, m.county_name\n",
    "    FROM past_ads p INNER JOIN municip m ON p.muni_code = m.municipality_code;\"\"\"\n",
    "cursor.execute(joined_table)\n",
    "conn.commit()\n",
    "conn.close()"
   ]
  },
  {
   "cell_type": "markdown",
   "metadata": {},
   "source": [
    "The data has now successfully been transfered to one sqlite table, and this will be used in the Main Project file for further analysis. "
   ]
  },
  {
   "cell_type": "code",
   "execution_count": null,
   "metadata": {},
   "outputs": [],
   "source": []
  }
 ],
 "metadata": {
  "kernelspec": {
   "display_name": "Python 3",
   "language": "python",
   "name": "python3"
  },
  "language_info": {
   "codemirror_mode": {
    "name": "ipython",
    "version": 3
   },
   "file_extension": ".py",
   "mimetype": "text/x-python",
   "name": "python",
   "nbconvert_exporter": "python",
   "pygments_lexer": "ipython3",
   "version": "3.7.6"
  }
 },
 "nbformat": 4,
 "nbformat_minor": 4
}
